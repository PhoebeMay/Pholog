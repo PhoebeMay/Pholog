{
 "cells": [
  {
   "cell_type": "code",
   "execution_count": 2,
   "metadata": {},
   "outputs": [],
   "source": [
    "import statistics\n",
    "import matplotlib.pyplot as plt\n",
    "\n",
    "from scipy import interpolate\n",
    "\n",
    "import numpy\n",
    "\n",
    "plt.rc('text', usetex=True)\n",
    "\n",
    "loc = \"/home/phoebe/Dropbox/Stuff1819/proooject/diss/graphs\"\n"
   ]
  },
  {
   "cell_type": "code",
   "execution_count": 3,
   "metadata": {},
   "outputs": [
    {
     "name": "stdout",
     "output_type": "stream",
     "text": [
      "[500000, 1000000, 1500000, 2000000, 2500000]\n",
      "3.0\n"
     ]
    }
   ],
   "source": [
    "pho = [0.52, 1.01, 1.56, 1.92, 2.48]\n",
    "swi = [1.28, 5.18, 11.20, 19.73, 29.51]\n",
    "gnu = [1.58, 2.52, 3.97, 4.81, 6.73]\n",
    "\n",
    "\n",
    "x = [i for i in range(500000, 3000000, 500000)]\n",
    "\n",
    "print(x)\n",
    "\n",
    "\n",
    "pho1 = [0.48, 0.97, 1.54, 1.92, 2.43]\n",
    "pho2 = [0.49, 0.97, 1.50, 1.91, 2.35] \n",
    "pho3 = [0.56, 0.98, 1.43, 1.91, 2.48] \n",
    "pho4 = [0.55, 0.95, 1.38, 1.95, 2.50] \n",
    "pho5 = [0.50, 0.98, 1.42, 2.07, 2.41]\n",
    "\n",
    "test = statistics.stdev([0.48,0.49,0.56,0.55,0.50])\n",
    "\n",
    "print(0.10940749517286291 / test)\n",
    "\n",
    "swi1 = [1.23, 4.90, 11.28, 19.25, 29.31]\n",
    "swi2 = [1.24, 4.85, 10.66, 18.69, 34.02]\n",
    "swi3 = [1.23, 4.89, 10.74, 18.95, 29.38]\n",
    "swi4 = [1.32, 5.01, 10.71, 19.28, 29.66]\n",
    "swi5 = [1.31, 4.93, 11.07, 19.49, 31.30]\n",
    "\n",
    "gnu1 = [1.31, 2.47, 3.94, 4.90, 5.97] \n",
    "gnu2 = [1.33, 2.52, 3.66, 4.85, 6.48] \n",
    "gnu3 = [1.86, 3.66, 4.18, 5.76, 6.67] \n",
    "gnu4 = [1.65, 3.17, 4.15, 5.42, 6.65] \n",
    "gnu5 = [1.78, 3.10, 4.35, 5.65, 6.68]\n"
   ]
  },
  {
   "cell_type": "code",
   "execution_count": 4,
   "metadata": {},
   "outputs": [],
   "source": [
    "pho_mean = [0.516, 0.97, 1.454, 1.952, 2.434]\n",
    "pho_stdev = [0.10940749517286291, 0.036742346141747706, 0.19395875850293554, 0.20391174561559705, 0.17824140933015523]\n",
    "swi_mean = [1.266, 4.9159999999999995, 10.892, 19.132, 30.734]\n",
    "swi_stdev = [0.13516656391282583, 0.17949930361981914, 0.8109438944834582, 0.93972336354908, 6.0248336076608835]\n",
    "gnu_mean = [1.586, 2.984, 4.056, 5.316, 6.49]\n",
    "gnu_stdev = [0.7626729312097027, 1.4883447181348815, 0.7950283013830384, 1.263673217251992, 0.9057317483670319]\n"
   ]
  },
  {
   "cell_type": "code",
   "execution_count": 6,
   "metadata": {},
   "outputs": [
    {
     "data": {
      "image/png": "[encoded data removed]",
      "text/plain": [
       "<Figure size 432x288 with 1 Axes>"
      ]
     },
     "metadata": {
      "needs_background": "light"
     },
     "output_type": "display_data"
    }
   ],
   "source": [
    "fig, ax = plt.subplots()\n",
    "\n",
    "def addline(mean,stdev,name,color): \n",
    "    \n",
    "    f = interpolate.interp1d(x,mean,kind='quadratic')\n",
    "    \n",
    "    up = 50000 \n",
    "    xnew = numpy.arange(500000, 2500001, up)\n",
    "#     print(xnew)\n",
    "    ynew = f(xnew)\n",
    "    \n",
    "    ax.plot(xnew,ynew,linewidth=0.5,color=color)\n",
    "    \n",
    "    ax.errorbar(x,mean,yerr=stdev,label=name, \n",
    "                fmt='.', \n",
    "                capsize=4,\n",
    "                markersize=4,\n",
    "                markeredgewidth=0.5,\n",
    "                capthick=0.5,\n",
    "                linestyle='None',linewidth=0.5,color=color)\n",
    "\n",
    "addline(pho_mean,pho_stdev,r'My implementation $\\pm 3 \\sigma$','#00a030')\n",
    "addline(swi_mean,swi_stdev,r'SWI $\\pm 3 \\sigma$','#ce0000')\n",
    "addline(gnu_mean,gnu_stdev,r'(GNU x 100) $\\pm 3 \\sigma$','#0091db')\n",
    "\n",
    "ax.legend(frameon=False)\n",
    "\n",
    "ax.set_xlabel(r'Number of iterations of the predicate \\texttt{test}')\n",
    "ax.set_ylabel('Time taken / s')\n",
    "\n",
    "\n",
    "for label in ax.xaxis.get_ticklabels():\n",
    "    label.set_visible(False)\n",
    "\n",
    "for label in ax.xaxis.get_ticklabels()[::2]:\n",
    "    label.set_visible(True)\n",
    "\n",
    "fig.savefig((loc + \"/scaling.png\"),dpi=800)"
   ]
  },
  {
   "cell_type": "code",
   "execution_count": null,
   "metadata": {},
   "outputs": [],
   "source": []
  },
  {
   "cell_type": "code",
   "execution_count": null,
   "metadata": {},
   "outputs": [],
   "source": []
  }
 ],
 "metadata": {
  "kernelspec": {
   "display_name": "Python 3",
   "language": "python",
   "name": "python3"
  },
  "language_info": {
   "codemirror_mode": {
    "name": "ipython",
    "version": 3
   },
   "file_extension": ".py",
   "mimetype": "text/x-python",
   "name": "python",
   "nbconvert_exporter": "python",
   "pygments_lexer": "ipython3",
   "version": "3.6.5"
  }
 },
 "nbformat": 4,
 "nbformat_minor": 2
}
