{
 "cells": [
  {
   "cell_type": "code",
   "execution_count": 1,
   "metadata": {},
   "outputs": [],
   "source": [
    "import statistics\n",
    "import random\n",
    "import matplotlib.pyplot as plt\n",
    "# import seaborn\n",
    "import re\n",
    "import math\n",
    "\n",
    "\n",
    "font = {'size'   : 12}\n",
    "\n",
    "loc = \"/home/phoebe/Dropbox/Stuff1819/proooject/diss/graphs\"\n",
    "\n",
    "\n",
    "plt.rc('font', **font)\n",
    "\n",
    "\n",
    "\n",
    "plt.rc('text', usetex=True)"
   ]
  },
  {
   "cell_type": "code",
   "execution_count": 2,
   "metadata": {},
   "outputs": [
    {
     "name": "stdout",
     "output_type": "stream",
     "text": [
      "3.9964322120285423\n",
      "15.035474592521574\n"
     ]
    }
   ],
   "source": [
    "# 12 queens\n",
    "\n",
    "# test1_pho = [31.05, 30.87, 30.89, 30.90, 31.36]\n",
    "# test1_swi = [7.84, 7.96, 7.78, 7.87, 7.86]\n",
    "# test1_gnu = [2,2,2,2,2] #fakenews\n",
    "\n",
    "test1_pho=[31.98, 31.43, 30.89, 31.58, 30.94]\n",
    "test1_swi=[8.12, 7.75, 7.76, 7.78, 7.83]\n",
    "test1_gnu=[20.64/10, 20.87/10, 21.62/10, 20.57/10, 20.6/10]\n",
    "\n",
    "\n",
    "print(statistics.mean(test1_pho)/statistics.mean(test1_swi))\n",
    "\n",
    "print(statistics.mean(test1_pho)/statistics.mean(test1_gnu))\n",
    "\n"
   ]
  },
  {
   "cell_type": "code",
   "execution_count": 3,
   "metadata": {},
   "outputs": [
    {
     "name": "stdout",
     "output_type": "stream",
     "text": [
      "4.163861617578307\n"
     ]
    }
   ],
   "source": [
    "# quick5000 \n",
    "\n",
    "test2_pho = [35.69, 35.81, 35.48, 35.70, 35.45]\n",
    "test2_swi = [8.47, 8.67, 8.57, 8.53, 8.54]\n",
    "test2_gnu = [0,0,0,0,0] #fakenews\n",
    "\n",
    "\n",
    "\n",
    "print(statistics.mean(test2_pho)/statistics.mean(test2_swi))\n",
    "\n",
    "\n",
    "\n",
    "# print(statistics.mean(test2_pho)/statistics.mean(test2_gnu))\n"
   ]
  },
  {
   "cell_type": "code",
   "execution_count": 4,
   "metadata": {},
   "outputs": [
    {
     "name": "stdout",
     "output_type": "stream",
     "text": [
      "53.05691056910569\n",
      "21.693121693121693\n"
     ]
    }
   ],
   "source": [
    "# hannoi_pho = [1.14, 1.13, 1.08, 1.11, 1.30]\n",
    "# hannoi_swi = [28.00, 27.69, 28.47, 29.18, 29.82]\n",
    "# hannoi_gnu = [3.00/100, 3.03/100, 2.53/100, 2.86/100, 2.74/100]\n",
    "\n",
    "\n",
    "hannoi_pho = [0.49, 0.51, 0.49, 0.52, 0.45]\n",
    "hannoi_swi = [26.16, 25.99, 26.16, 26.23, 25.98]\n",
    "hannoi_gnu = [2.26/100, 2.21/100, 2.19/100, 2.38/100, 2.30/100]\n",
    "\n",
    "\n",
    "print(statistics.mean(hannoi_swi)/statistics.mean(hannoi_pho))\n",
    "\n",
    "print(statistics.mean(hannoi_pho)/statistics.mean(hannoi_gnu))\n"
   ]
  },
  {
   "cell_type": "code",
   "execution_count": 5,
   "metadata": {},
   "outputs": [
    {
     "name": "stdout",
     "output_type": "stream",
     "text": [
      "11.343283582089551\n",
      "28.535669586983726\n"
     ]
    }
   ],
   "source": [
    "col_pho = [4.62, 4.53, 4.54, 4.56, 4.55]\n",
    "col_swi = [0.40, 0.41, 0.39, 0.40, 0.41]\n",
    "col_gnu = [1.60/10, 1.61/10, 1.61/10, 1.59/10, 1.58/10]\n",
    "\n",
    "print(statistics.mean(col_pho)/statistics.mean(col_swi))\n",
    "\n",
    "print(statistics.mean(col_pho)/statistics.mean(col_gnu))\n"
   ]
  },
  {
   "cell_type": "markdown",
   "metadata": {},
   "source": []
  },
  {
   "cell_type": "code",
   "execution_count": 6,
   "metadata": {},
   "outputs": [
    {
     "name": "stdout",
     "output_type": "stream",
     "text": [
      "23.694614103275956\n",
      "48.02666666666667\n"
     ]
    }
   ],
   "source": [
    "ack_pho=[3.48, 3.72, 4.23, 3.34, 3.24]\n",
    "ack_swi=[83.32, 83.93, 84.53, 90.85, 84.11]\n",
    "ack_gnu=[7.42/100, 7.35/100, 7.86/100, 7.35/100, 7.52/100]\n",
    "\n",
    "print(statistics.mean(ack_swi)/statistics.mean(ack_pho))\n",
    "\n",
    "print(statistics.mean(ack_pho)/statistics.mean(ack_gnu))\n"
   ]
  },
  {
   "cell_type": "code",
   "execution_count": 7,
   "metadata": {},
   "outputs": [
    {
     "name": "stdout",
     "output_type": "stream",
     "text": [
      "8.983666061705991\n",
      "16.00646725949879\n"
     ]
    }
   ],
   "source": [
    "iter_pho = [19.17, 19.84, 20.14, 19.30, 20.55]\n",
    "iter_swi = [2.09, 2.11, 2.46, 2.17, 2.19]\n",
    "iter_gnu = [11.82/10, 13.76/10, 11.95/10, 12.33/10, 11.99/10]\n",
    "\n",
    "print(statistics.mean(iter_pho)/statistics.mean(iter_swi))\n",
    "\n",
    "print(statistics.mean(iter_pho)/statistics.mean(iter_gnu))\n"
   ]
  },
  {
   "cell_type": "code",
   "execution_count": 10,
   "metadata": {
    "scrolled": false
   },
   "outputs": [
    {
     "name": "stdout",
     "output_type": "stream",
     "text": [
      "<BarContainer object of 3 artists>\n"
     ]
    },
    {
     "data": {
      "image/png": "[encoded data removed]",
      "text/plain": [
       "<Figure size 576x468 with 6 Axes>"
      ]
     },
     "metadata": {
      "needs_background": "light"
     },
     "output_type": "display_data"
    }
   ],
   "source": [
    "f, ([ax1,ax2,ax3],[ax4,ax5,ax6]) = plt.subplots(2, 3,figsize=(8, 6.5))\n",
    "\n",
    "\n",
    "\n",
    "f.tight_layout()\n",
    "\n",
    "def bar(means, labels, err, ax, title,log,label,blabels):\n",
    "    x_coords = list(range(1, len(means)+1))\n",
    "    ax.grid(axis='y',which='both',zorder=0, color='#dddddd')\n",
    "    ax.set_axisbelow(True)\n",
    "    \n",
    "    pl = ax.bar(x_coords, means,\n",
    "                yerr=err,color=['#76cc90', '#ea7272','#60bcea'],\n",
    "                tick_label=labels,error_kw=dict(lw=0.5, capsize=2, capthick=0.5),\n",
    "               )\n",
    "   # ax.bar(x_coords, means,yerr=err,capsize=6,color=\"Spectral\",tick_label=labels)\n",
    "    ax.set_title(title)\n",
    "    if log:\n",
    "        ax.set_yscale('log')\n",
    "    ax.set_ylabel(label)\n",
    "#     ax.set_xlim([0.6,4.1])\n",
    "    \n",
    "    [a,b] = ax.get_ylim()\n",
    "    if log: \n",
    "        ax.set_ylim([a,b*1.8])\n",
    "    else:\n",
    "        ax.set_ylim([a,b*1.1])\n",
    "        \n",
    "    count = 0\n",
    "    for idx,rect in enumerate(pl):\n",
    "        height = rect.get_height()\n",
    "        if height == 0:\n",
    "            continue\n",
    "            \n",
    "        [_,m] = ax.get_ylim()\n",
    "        height = err[count] + means[count] \n",
    "        \n",
    "        ax.text(rect.get_x() + 0.5 * rect.get_width(), \n",
    "#                 rect.get_y()+rect.get_height() + 0.1 + err[count],\n",
    "                height,\n",
    "                blabels[count],\n",
    "                ha='center', va='bottom', size=13)    \n",
    "        count += 1\n",
    "    \n",
    "    return pl\n",
    "    \n",
    "                \n",
    "#     ax.xticks(x_coords, labels)\n",
    "\n",
    "def bardata(pho, swi, gnu, axis, title,log,label,labels):\n",
    "    means1 = [statistics.mean(x) for x in [pho, swi, gnu]]\n",
    "    labels1 = ['Mine', 'SWI','GNU']\n",
    "    err1 = [5 * statistics.stdev(x) for x in [pho, swi, gnu]]\n",
    "    return bar(means1,labels1,err1, axis, title,log,label,labels)\n",
    "\n",
    "bardata(test1_pho,test1_swi,test1_gnu,ax1,'12 Queens',False,'Execution time / s',[r'$\\times 1$',r'$\\times \\frac{1}{4}$',r'$\\times \\frac{1}{15}$'])\n",
    "p2 = bardata(test2_pho,test2_swi,test2_gnu,ax2,'Quicksort, 5000 elements',False,'',[r'$\\times 1$',r'$\\times \\frac{1}{4}$',''])\n",
    "bardata(col_pho,col_swi,col_gnu,ax4,'Graph colouring, 13 vertices',True,'',[r'$\\times 1$',r'$\\times \\frac{1}{11} $',r'$\\times \\frac{1}{29}$'])\n",
    "bardata(hannoi_pho,hannoi_swi,hannoi_gnu,ax6,'Towers of Hannoi, height 19',True,'',[r'$\\times 1$',r'$\\times 53$',r'$\\times \\frac{1}{22}$'])\n",
    "bardata(ack_pho,ack_swi,ack_gnu,ax5,'Ackermann(3,8)',True,'',[r'$\\times 1$',r'$\\times 24$',r'$\\times \\frac{1}{48}$'])\n",
    "bardata(iter_pho,iter_swi,iter_gnu,ax3,'100,000,000 tail-calls',False,'',[r'$\\times 1$',r'$\\times \\frac{1}{9}$',r'$\\times \\frac{1}{16}$'])\n",
    "\n",
    "\n",
    "print(p2)\n",
    "\n",
    "# def autolabel(plot):\n",
    "#     for idx,rect in enumerate(plot):\n",
    "#         height = rect.get_height()\n",
    "#         ax.text(rect.get_x() + rect.get_width()/2., 1.05*height,\n",
    "#                 \"hi\",\n",
    "#                 ha='center', va='bottom', rotation=90)\n",
    "\n",
    "# autolabel(ax2)\n",
    "\n",
    "\n",
    "# ax2.text(rect.get_x() + rect.get_width()/2., 1.05*height,\"hi\",ha='center', va='bottom')\n",
    "\n",
    "def labelcompfail(plt,ax):\n",
    "#     ax.set_xlim([0.6,3.4])\n",
    "    count = 0\n",
    "    for idx,rect in enumerate(plt):\n",
    "        if count == 2:\n",
    "            height = rect.get_height()\n",
    "            ax.text(rect.get_x() + rect.get_width()/2., 1.5,\n",
    "                    \"Compilation failure\",\n",
    "                    ha='center', va='bottom', rotation=90,size=12,backgroundcolor=\"white\")\n",
    "        count+=1\n",
    "\n",
    "labelcompfail(p2,ax2)\n",
    "\n",
    "f.tight_layout(pad=2.0, w_pad=2.0, h_pad=2.0)\n",
    "\n",
    "f.savefig((loc + \"/speed_comp_bar.png\"),dpi=800)"
   ]
  },
  {
   "cell_type": "code",
   "execution_count": null,
   "metadata": {},
   "outputs": [],
   "source": []
  },
  {
   "cell_type": "code",
   "execution_count": null,
   "metadata": {},
   "outputs": [],
   "source": []
  },
  {
   "cell_type": "code",
   "execution_count": null,
   "metadata": {},
   "outputs": [],
   "source": []
  }
 ],
 "metadata": {
  "kernelspec": {
   "display_name": "Python 3",
   "language": "python",
   "name": "python3"
  },
  "language_info": {
   "codemirror_mode": {
    "name": "ipython",
    "version": 3
   },
   "file_extension": ".py",
   "mimetype": "text/x-python",
   "name": "python",
   "nbconvert_exporter": "python",
   "pygments_lexer": "ipython3",
   "version": "3.5.2"
  }
 },
 "nbformat": 4,
 "nbformat_minor": 2
}
