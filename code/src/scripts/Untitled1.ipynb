{
 "cells": [
  {
   "cell_type": "code",
   "execution_count": 1,
   "metadata": {},
   "outputs": [],
   "source": [
    "import random"
   ]
  },
  {
   "cell_type": "code",
   "execution_count": 26,
   "metadata": {},
   "outputs": [
    {
     "name": "stdout",
     "output_type": "stream",
     "text": [
      "diff(X24,X11),\n",
      "diff(X21,X24),\n",
      "diff(X22,X7),\n",
      "diff(X22,X11),\n",
      "diff(X17,X18),\n",
      "diff(X3,X17),\n",
      "diff(X22,X5),\n",
      "diff(X15,X8),\n",
      "diff(X19,X5),\n",
      "diff(X5,X10),\n",
      "diff(X23,X5),\n",
      "diff(X22,X13),\n",
      "diff(X20,X16),\n",
      "diff(X15,X1),\n",
      "diff(X17,X6),\n",
      "diff(X14,X2),\n",
      "diff(X17,X2),\n",
      "diff(X23,X7),\n",
      "diff(X17,X11),\n",
      "diff(X10,X4),\n",
      "diff(X18,X13),\n",
      "diff(X14,X1),\n",
      "diff(X13,X12),\n",
      "diff(X18,X9),\n",
      "diff(X9,X7),\n",
      "diff(X13,X1),\n",
      "diff(X6,X9),\n",
      "diff(X17,X9),\n",
      "diff(X22,X10),\n",
      "diff(X7,X10),\n",
      "diff(X13,X10),\n",
      "diff(X3,X1),\n",
      "diff(X21,X12),\n",
      "diff(X10,X2),\n",
      "diff(X11,X20),\n",
      "diff(X23,X22),\n",
      "diff(X8,X9),\n",
      "diff(X11,X4),\n",
      "diff(X8,X16),\n",
      "diff(X10,X12),\n",
      "diff(X21,X14),\n",
      "diff(X5,X7),\n",
      "diff(X12,X4),\n",
      "diff(X2,X1),\n",
      "diff(X14,X8),\n"
     ]
    }
   ],
   "source": [
    "edges = 45\n",
    "nodes = 25\n",
    "\n",
    "for i in range(edges):\n",
    "    n1 = random.randint(0,nodes-1)\n",
    "    n2 = random.randint(0,nodes-1)\n",
    "    while n1 == n2:\n",
    "        n2 = random.randint(0,nodes)\n",
    "    print(\"diff(X\"+str(n1)+\",X\"+str(n2)+\"),\")"
   ]
  },
  {
   "cell_type": "code",
   "execution_count": 14,
   "metadata": {},
   "outputs": [
    {
     "name": "stdout",
     "output_type": "stream",
     "text": [
      "[X0,X1,X2,X3,X4,X5,X6,X7,X8,X9,X10,X11,X12,X13,X14,X15,X16,X17,X18,X19,X20,X21,X22,X23,X24,X25,X26,X27,X28,X29,X30,X31,X32,X33,X34,X35,X36,X37,X38,X39,X40,X41,X42,X43,X44,X45,X46,X47,X48,X49,]\n"
     ]
    }
   ],
   "source": [
    "print(\"[\",end=\"\")\n",
    "for i in range(nodes):\n",
    "    print(\"X\"+str(i)+\",\",end=\"\")\n",
    "print(\"]\")"
   ]
  },
  {
   "cell_type": "code",
   "execution_count": null,
   "metadata": {},
   "outputs": [],
   "source": []
  }
 ],
 "metadata": {
  "kernelspec": {
   "display_name": "Python 3",
   "language": "python",
   "name": "python3"
  },
  "language_info": {
   "codemirror_mode": {
    "name": "ipython",
    "version": 3
   },
   "file_extension": ".py",
   "mimetype": "text/x-python",
   "name": "python",
   "nbconvert_exporter": "python",
   "pygments_lexer": "ipython3",
   "version": "3.6.5"
  }
 },
 "nbformat": 4,
 "nbformat_minor": 2
}
