{
 "cells": [
  {
   "cell_type": "code",
   "execution_count": 13,
   "metadata": {},
   "outputs": [],
   "source": [
    "import subprocess\n",
    "import re\n",
    "import seaborn\n",
    "import numpy"
   ]
  },
  {
   "cell_type": "code",
   "execution_count": 14,
   "metadata": {},
   "outputs": [
    {
     "name": "stdout",
     "output_type": "stream",
     "text": [
      "Hello World!\n",
      "\n"
     ]
    }
   ],
   "source": [
    "\n",
    "command = \"/home/phoebe/Dropbox/Stuff1819/proooject/Project/code/src/scripts/run_me_gc.sh\"\n",
    "testcase = \"ack\"\n",
    "\n",
    "\n",
    "res = subprocess.check_output([\"echo\", \"Hello World!\"]).decode('ascii')\n",
    "print(res)"
   ]
  },
  {
   "cell_type": "code",
   "execution_count": 31,
   "metadata": {
    "scrolled": true
   },
   "outputs": [],
   "source": [
    "\n",
    "top = 3000\n",
    "rang = range(0,3000,500)\n",
    "\n",
    "def getResult():\n",
    "    result = []\n",
    "    for major in rang:\n",
    "        resa = []\n",
    "        for minor in rang:\n",
    "\n",
    "            run = subprocess.check_output([command, str(major)+\"M\", str(minor)+\"M\", testcase],\n",
    "                                          stderr=subprocess.STDOUT).decode('ascii')\n",
    "\n",
    "            f = float(run)\n",
    "            print(str(major)+\",\"+str(minor))\n",
    "            print(f)\n",
    "            print()\n",
    "            resa += [f]\n",
    "        result += [resa]\n",
    "\n",
    "    print(result)\n",
    "    return result\n",
    "\n",
    "\n",
    "\n",
    "\n",
    "# getResult()\n",
    "\n",
    "# result_a = [[4.03, 3.94, 4.06, 4.01, 3.98, 4.03],\n",
    "#  [4.46, 4.42, 4.31, 3.92, 3.85, 3.94],\n",
    "#  [4.27, 4.26, 3.9, 3.9, 3.95, 4.26],\n",
    "#  [3.84, 4.03, 3.94, 3.87, 4.03, 3.97],\n",
    "#  [3.87, 3.95, 4.08, 4.03, 3.9, 4.02],\n",
    "#  [3.97, 3.88, 4.08, 3.89, 3.79, 3.85]]\n",
    "\n",
    "# result_b  = [[3.98, 3.91, 3.76, 3.79, 4.03, 3.97], \n",
    "#              [3.85, 4.02, 3.78, 3.78, 3.93, 4.35], \n",
    "#              [3.95, 4.16, 3.89, 3.9, 3.86, 4.28], \n",
    "#              [3.87, 3.99, 4.0, 3.95, 3.88, 3.85], \n",
    "#              [4.0, 3.85, 3.93, 3.98, 3.9, 3.94], \n",
    "#              [3.92, 3.93, 3.95, 3.95, 3.92, 3.85]]\n",
    "\n",
    "\n",
    "# result_c = [[3.99, 3.87, 3.88, 3.89, 3.85, 3.87], [3.84, 3.85, 3.9, 4.08, 3.84, 3.87], [3.93, 3.94, 3.92, 4.45, 3.97, 3.92], [3.88, 3.89, 3.82, 3.87, 3.89, 3.95], [3.94, 4.21, 4.21, 4.11, 3.93, 3.82], [3.86, 3.9, 3.88, 3.82, 3.92, 4.4]]\n",
    "\n",
    "result = [[3.94, 2.73, 2.57, 3.28, 2.71, 2.78], \n",
    "          [4.14, 2.71, 2.67, 2.66, 2.8, 2.87], \n",
    "          [4.39, 2.74, 2.72, 2.83, 2.95, 2.88], \n",
    "          [4.55, 3.2, 2.96, 3.36, 2.95, 2.92], \n",
    "          [4.99, 3.02, 2.91, 2.89, 2.86, 2.92], \n",
    "          [4.67, 2.97, 3.06, 3.14, 3.13, 3.2]]\n"
   ]
  },
  {
   "cell_type": "code",
   "execution_count": 37,
   "metadata": {},
   "outputs": [
    {
     "name": "stdout",
     "output_type": "stream",
     "text": [
      "[[3.94, 2.73, 2.57, 3.28, 2.71, 2.78], [4.14, 2.71, 2.67, 2.66, 2.8, 2.87], [4.39, 2.74, 2.72, 2.83, 2.95, 2.88], [4.55, 3.2, 2.96, 3.36, 2.95, 2.92], [4.99, 3.02, 2.91, 2.89, 2.86, 2.92], [4.67, 2.97, 3.06, 3.14, 3.13, 3.2]]\n"
     ]
    },
    {
     "data": {
      "text/plain": [
       "<matplotlib.axes._subplots.AxesSubplot at 0x7fda70af92b0>"
      ]
     },
     "execution_count": 37,
     "metadata": {},
     "output_type": "execute_result"
    },
    {
     "data": {
      "image/png": "[encoded data removed]",
      "text/plain": [
       "<Figure size 432x288 with 2 Axes>"
      ]
     },
     "metadata": {},
     "output_type": "display_data"
    }
   ],
   "source": [
    "def avg(lists):\n",
    "    n = len(lists)\n",
    "    result = [] \n",
    "    for i in range(len(lists[0])):\n",
    "        result += [[]]\n",
    "        for j in range(len(lists[0][0])):\n",
    "            total = 0\n",
    "            for k in range(n):\n",
    "                total += lists[k][i][j]\n",
    "            avg = total / n\n",
    "#             print(result)\n",
    "            result[i] += [avg]\n",
    "    print(result)\n",
    "    return result\n",
    "\n",
    "\n",
    "xlabel = range(0,3000,500)\n",
    "ylabel = range(3000-500,-500,-500)\n",
    "seaborn.heatmap(avg([result]),xticklabels=xlabel,yticklabels=ylabel)"
   ]
  },
  {
   "cell_type": "code",
   "execution_count": null,
   "metadata": {},
   "outputs": [],
   "source": []
  }
 ],
 "metadata": {
  "kernelspec": {
   "display_name": "Python 3",
   "language": "python",
   "name": "python3"
  },
  "language_info": {
   "codemirror_mode": {
    "name": "ipython",
    "version": 3
   },
   "file_extension": ".py",
   "mimetype": "text/x-python",
   "name": "python",
   "nbconvert_exporter": "python",
   "pygments_lexer": "ipython3",
   "version": "3.6.5"
  }
 },
 "nbformat": 4,
 "nbformat_minor": 2
}
