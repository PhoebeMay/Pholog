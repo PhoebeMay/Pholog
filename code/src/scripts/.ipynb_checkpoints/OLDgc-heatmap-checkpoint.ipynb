{
 "cells": [
  {
   "cell_type": "code",
   "execution_count": 13,
   "metadata": {},
   "outputs": [],
   "source": [
    "import subprocess\n",
    "import re\n",
    "import seaborn\n",
    "import numpy"
   ]
  },
  {
   "cell_type": "code",
   "execution_count": 14,
   "metadata": {},
   "outputs": [
    {
     "name": "stdout",
     "output_type": "stream",
     "text": [
      "Hello World!\n",
      "\n"
     ]
    }
   ],
   "source": [
    "\n",
    "command = \"/home/phoebe/Dropbox/Stuff1819/proooject/Project/code/src/scripts/run_me_gc.sh\"\n",
    "testcase = \"ack\"\n",
    "\n",
    "\n",
    "res = subprocess.check_output([\"echo\", \"Hello World!\"]).decode('ascii')\n",
    "print(res)"
   ]
  },
  {
   "cell_type": "code",
   "execution_count": 22,
   "metadata": {
    "scrolled": true
   },
   "outputs": [
    {
     "name": "stdout",
     "output_type": "stream",
     "text": [
      "0.0,0.0\n",
      "3.98\n",
      "\n",
      "0.0,0.5\n",
      "3.91\n",
      "\n",
      "0.0,1.0\n",
      "3.76\n",
      "\n",
      "0.0,1.5\n",
      "3.79\n",
      "\n",
      "0.0,2.0\n",
      "4.03\n",
      "\n",
      "0.0,2.5\n",
      "3.97\n",
      "\n",
      "0.5,0.0\n",
      "3.85\n",
      "\n",
      "0.5,0.5\n",
      "4.02\n",
      "\n",
      "0.5,1.0\n",
      "3.78\n",
      "\n",
      "0.5,1.5\n",
      "3.78\n",
      "\n",
      "0.5,2.0\n",
      "3.93\n",
      "\n",
      "0.5,2.5\n",
      "4.35\n",
      "\n",
      "1.0,0.0\n",
      "3.95\n",
      "\n",
      "1.0,0.5\n",
      "4.16\n",
      "\n",
      "1.0,1.0\n",
      "3.89\n",
      "\n",
      "1.0,1.5\n",
      "3.9\n",
      "\n",
      "1.0,2.0\n",
      "3.86\n",
      "\n",
      "1.0,2.5\n",
      "4.28\n",
      "\n",
      "1.5,0.0\n",
      "3.87\n",
      "\n",
      "1.5,0.5\n",
      "3.99\n",
      "\n",
      "1.5,1.0\n",
      "4.0\n",
      "\n",
      "1.5,1.5\n",
      "3.95\n",
      "\n",
      "1.5,2.0\n",
      "3.88\n",
      "\n",
      "1.5,2.5\n",
      "3.85\n",
      "\n",
      "2.0,0.0\n",
      "4.0\n",
      "\n",
      "2.0,0.5\n",
      "3.85\n",
      "\n",
      "2.0,1.0\n",
      "3.93\n",
      "\n",
      "2.0,1.5\n",
      "3.98\n",
      "\n",
      "2.0,2.0\n",
      "3.9\n",
      "\n",
      "2.0,2.5\n",
      "3.94\n",
      "\n",
      "2.5,0.0\n",
      "3.92\n",
      "\n",
      "2.5,0.5\n",
      "3.93\n",
      "\n",
      "2.5,1.0\n",
      "3.95\n",
      "\n",
      "2.5,1.5\n",
      "3.95\n",
      "\n",
      "2.5,2.0\n",
      "3.92\n",
      "\n",
      "2.5,2.5\n",
      "3.85\n",
      "\n",
      "[[3.98, 3.91, 3.76, 3.79, 4.03, 3.97], [3.85, 4.02, 3.78, 3.78, 3.93, 4.35], [3.95, 4.16, 3.89, 3.9, 3.86, 4.28], [3.87, 3.99, 4.0, 3.95, 3.88, 3.85], [4.0, 3.85, 3.93, 3.98, 3.9, 3.94], [3.92, 3.93, 3.95, 3.95, 3.92, 3.85]]\n"
     ]
    }
   ],
   "source": [
    "\n",
    "top = 3\n",
    "rang = numpy.arange(0, top, 0.5)\n",
    "\n",
    "def getResult():\n",
    "    result = []\n",
    "    for major in rang:\n",
    "        resa = []\n",
    "        for minor in rang:\n",
    "\n",
    "            run = subprocess.check_output([command, str(major)+\"G\", str(minor)+\"G\", testcase],\n",
    "                                          stderr=subprocess.STDOUT).decode('ascii')\n",
    "\n",
    "            f = float(run)\n",
    "            print(str(major)+\",\"+str(minor))\n",
    "            print(f)\n",
    "            print()\n",
    "            resa += [f]\n",
    "        result += [resa]\n",
    "\n",
    "    print(result)\n",
    "    return result\n",
    "\n",
    "\n",
    "\n",
    "\n",
    "getResult()\n",
    "\n",
    "result_a = [[4.03, 3.94, 4.06, 4.01, 3.98, 4.03],\n",
    " [4.46, 4.42, 4.31, 3.92, 3.85, 3.94],\n",
    " [4.27, 4.26, 3.9, 3.9, 3.95, 4.26],\n",
    " [3.84, 4.03, 3.94, 3.87, 4.03, 3.97],\n",
    " [3.87, 3.95, 4.08, 4.03, 3.9, 4.02],\n",
    " [3.97, 3.88, 4.08, 3.89, 3.79, 3.85]]\n",
    "\n",
    "result_b  = [[3.98, 3.91, 3.76, 3.79, 4.03, 3.97], \n",
    "             [3.85, 4.02, 3.78, 3.78, 3.93, 4.35], \n",
    "             [3.95, 4.16, 3.89, 3.9, 3.86, 4.28], \n",
    "             [3.87, 3.99, 4.0, 3.95, 3.88, 3.85], \n",
    "             [4.0, 3.85, 3.93, 3.98, 3.9, 3.94], \n",
    "             [3.92, 3.93, 3.95, 3.95, 3.92, 3.85]]\n",
    "\n",
    "\n"
   ]
  },
  {
   "cell_type": "code",
   "execution_count": 20,
   "metadata": {},
   "outputs": [
    {
     "name": "stdout",
     "output_type": "stream",
     "text": [
      "[[4.03, 3.94, 4.06, 4.01, 3.98, 4.03], [4.46, 4.42, 4.31, 3.92, 3.85, 3.94], [4.27, 4.26, 3.9, 3.9, 3.95, 4.26], [3.84, 4.03, 3.94, 3.87, 4.03, 3.97], [3.87, 3.95, 4.08, 4.03, 3.9, 4.02], [3.97, 3.88, 4.08, 3.89, 3.79, 3.85]]\n"
     ]
    },
    {
     "data": {
      "text/plain": [
       "<matplotlib.axes._subplots.AxesSubplot at 0x7fda70f736a0>"
      ]
     },
     "execution_count": 20,
     "metadata": {},
     "output_type": "execute_result"
    },
    {
     "data": {
      "image/png": "[encoded data removed]",
      "text/plain": [
       "<Figure size 432x288 with 2 Axes>"
      ]
     },
     "metadata": {},
     "output_type": "display_data"
    }
   ],
   "source": [
    "def avg(lists):\n",
    "    n = len(lists)\n",
    "    result = [] \n",
    "    for i in range(len(lists[0])):\n",
    "        result += [[]]\n",
    "        for j in range(len(lists[0][0])):\n",
    "            total = 0\n",
    "            for k in range(n):\n",
    "                total += lists[k][i][j]\n",
    "            avg = total / n\n",
    "#             print(result)\n",
    "            result[i] += [avg]\n",
    "    print(result)\n",
    "    return result\n",
    "\n",
    "\n",
    "\n",
    "seaborn.heatmap(avg([result_a]))"
   ]
  },
  {
   "cell_type": "code",
   "execution_count": null,
   "metadata": {},
   "outputs": [],
   "source": []
  }
 ],
 "metadata": {
  "kernelspec": {
   "display_name": "Python 3",
   "language": "python",
   "name": "python3"
  },
  "language_info": {
   "codemirror_mode": {
    "name": "ipython",
    "version": 3
   },
   "file_extension": ".py",
   "mimetype": "text/x-python",
   "name": "python",
   "nbconvert_exporter": "python",
   "pygments_lexer": "ipython3",
   "version": "3.6.5"
  }
 },
 "nbformat": 4,
 "nbformat_minor": 2
}
